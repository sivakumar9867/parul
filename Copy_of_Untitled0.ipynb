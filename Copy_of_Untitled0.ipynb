{
  "nbformat": 4,
  "nbformat_minor": 0,
  "metadata": {
    "colab": {
      "provenance": [],
      "authorship_tag": "ABX9TyNQQyrCtHWTzSDL7Jky80f8",
      "include_colab_link": true
    },
    "kernelspec": {
      "name": "python3",
      "display_name": "Python 3"
    },
    "language_info": {
      "name": "python"
    }
  },
  "cells": [
    {
      "cell_type": "markdown",
      "metadata": {
        "id": "view-in-github",
        "colab_type": "text"
      },
      "source": [
        "<a href=\"https://colab.research.google.com/github/sivakumar9867/parul/blob/main/Copy_of_Untitled0.ipynb\" target=\"_parent\"><img src=\"https://colab.research.google.com/assets/colab-badge.svg\" alt=\"Open In Colab\"/></a>"
      ]
    },
    {
      "cell_type": "code",
      "execution_count": null,
      "metadata": {
        "colab": {
          "base_uri": "https://localhost:8080/"
        },
        "id": "XiNq5_7gmFHK",
        "outputId": "d30e5e36-94b7-405a-a5f7-93f67f47bdac"
      },
      "outputs": [
        {
          "output_type": "stream",
          "name": "stdout",
          "text": [
            "10\n"
          ]
        }
      ],
      "source": [
        "x=5\n",
        "y=5\n",
        "print(x+y)"
      ]
    },
    {
      "cell_type": "code",
      "source": [
        "while True:\n",
        "  x=int(input(\"enter x\"))\n",
        "  y=int(input(\"enter y\"))\n",
        "  c=input(\"enter otp\")\n",
        "  if c==\"+\":\n",
        "    print(x+y)\n",
        "  elif c==\"-\":\n",
        "    print(\"x-y\")\n",
        "  else :\n",
        "    print(\"noob\")"
      ],
      "metadata": {
        "colab": {
          "base_uri": "https://localhost:8080/"
        },
        "id": "FK_Dmo6nmNsr",
        "outputId": "8eb15602-7e51-4deb-813a-d48410a110f6"
      },
      "execution_count": null,
      "outputs": [
        {
          "output_type": "stream",
          "name": "stdout",
          "text": [
            "enter x10\n",
            "enter y5\n",
            "enter otp+\n",
            "15\n"
          ]
        }
      ]
    },
    {
      "cell_type": "code",
      "source": [],
      "metadata": {
        "id": "f5gD07SpnQhM"
      },
      "execution_count": null,
      "outputs": []
    }
  ]
}